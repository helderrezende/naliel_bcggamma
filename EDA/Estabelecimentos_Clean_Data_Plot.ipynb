{
 "cells": [
  {
   "cell_type": "code",
   "execution_count": null,
   "metadata": {
    "ExecuteTime": {
     "end_time": "2019-10-21T19:15:26.267417Z",
     "start_time": "2019-10-21T19:15:26.263417Z"
    }
   },
   "outputs": [],
   "source": [
    "#Configure Jupyter-notebook NBextensions -> Execute Time and Table of Contents (2)"
   ]
  },
  {
   "cell_type": "code",
   "execution_count": null,
   "metadata": {
    "ExecuteTime": {
     "end_time": "2019-10-21T21:43:14.441034Z",
     "start_time": "2019-10-21T21:43:14.429029Z"
    }
   },
   "outputs": [],
   "source": [
    "from IPython.core.interactiveshell import InteractiveShell\n",
    "InteractiveShell.ast_node_interactivity = \"all\"\n",
    "\n",
    "import pandas as pd\n",
    "import matplotlib\n",
    "matplotlib.interactive(True)\n",
    "%matplotlib inline\n"
   ]
  },
  {
   "cell_type": "markdown",
   "metadata": {},
   "source": [
    "### Hospital Especializado"
   ]
  },
  {
   "cell_type": "code",
   "execution_count": null,
   "metadata": {
    "ExecuteTime": {
     "end_time": "2019-10-21T20:33:31.687912Z",
     "start_time": "2019-10-21T20:33:31.683948Z"
    }
   },
   "outputs": [],
   "source": [
    "# estabelecimentos = pd.read_csv('../data/Estabelecimentos- Hospital Especializado2.csv', sep=';', skiprows=3, encoding='latin1')"
   ]
  },
  {
   "cell_type": "markdown",
   "metadata": {},
   "source": [
    "### Convert to Excel with remove lines (drive)\n"
   ]
  },
  {
   "cell_type": "code",
   "execution_count": null,
   "metadata": {
    "ExecuteTime": {
     "end_time": "2019-10-21T20:33:36.113965Z",
     "start_time": "2019-10-21T20:33:32.495764Z"
    }
   },
   "outputs": [],
   "source": [
    "estabelecimentos = pd.read_excel('../data/Estabelecimentos- Hospital Especializado2.xlsx')"
   ]
  },
  {
   "cell_type": "code",
   "execution_count": null,
   "metadata": {
    "ExecuteTime": {
     "end_time": "2019-10-21T20:33:36.447309Z",
     "start_time": "2019-10-21T20:33:36.435310Z"
    }
   },
   "outputs": [],
   "source": [
    "len(estabelecimentos.columns)"
   ]
  },
  {
   "cell_type": "code",
   "execution_count": null,
   "metadata": {
    "ExecuteTime": {
     "end_time": "2019-10-21T20:33:36.779667Z",
     "start_time": "2019-10-21T20:33:36.771632Z"
    }
   },
   "outputs": [],
   "source": [
    "#Adjust Names\n",
    "new_names = ['Municipio',\n",
    "             '2014/Jan', '2014/Fev', '2014/Mar', '2014/Abr', '2014/Mai', '2014/Jun', '2014/Jul', '2014/Ago', '2014/Set', '2014/Out', '2014/Nov', '2014/Dez',\n",
    "             '2015/Jan', '2015/Fev', '2015/Mar', '2015/Abr', '2015/Mai', '2015/Jun', '2015/Jul', '2015/Ago', '2015/Set', '2015/Out', '2015/Nov', '2015/Dez',\n",
    "             '2016/Jan', '2016/Fev', '2016/Mar', '2016/Abr', '2016/Mai', '2016/Jun', '2016/Jul', '2016/Ago', '2016/Set', '2016/Out', '2016/Nov', '2016/Dez',\n",
    "             '2017/Jan', '2017/Fev', '2017/Mar', '2017/Abr', '2017/Mai', '2017/Jun', '2017/Jul', '2017/Ago', '2017/Set', '2017/Out', '2017/Nov', '2017/Dez',\n",
    "             '2018/Jan', '2018/Fev', '2018/Mar', '2018/Abr', '2018/Mai', '2018/Jun', '2018/Jul', '2018/Ago', '2018/Set', '2018/Out', '2018/Nov', '2018/Dez']"
   ]
  },
  {
   "cell_type": "code",
   "execution_count": null,
   "metadata": {
    "ExecuteTime": {
     "end_time": "2019-10-21T20:33:37.117656Z",
     "start_time": "2019-10-21T20:33:37.109658Z"
    }
   },
   "outputs": [],
   "source": [
    "len(new_names)"
   ]
  },
  {
   "cell_type": "code",
   "execution_count": null,
   "metadata": {
    "ExecuteTime": {
     "end_time": "2019-10-21T20:33:37.452111Z",
     "start_time": "2019-10-21T20:33:37.444062Z"
    }
   },
   "outputs": [],
   "source": [
    "# Set New Names\n",
    "# set(estabelecimentos.columns) == set(new_names)\n",
    "est_hosp = estabelecimentos.set_axis(new_names, axis=1, inplace = False)"
   ]
  },
  {
   "cell_type": "code",
   "execution_count": null,
   "metadata": {
    "ExecuteTime": {
     "end_time": "2019-10-21T20:33:37.960343Z",
     "start_time": "2019-10-21T20:33:37.952340Z"
    }
   },
   "outputs": [],
   "source": [
    "est_hosp.shape"
   ]
  },
  {
   "cell_type": "markdown",
   "metadata": {},
   "source": [
    "### Exclude duplicate data -> Nao Necessario\n"
   ]
  },
  {
   "cell_type": "code",
   "execution_count": null,
   "metadata": {
    "ExecuteTime": {
     "end_time": "2019-10-21T20:33:38.496930Z",
     "start_time": "2019-10-21T20:33:38.480940Z"
    }
   },
   "outputs": [],
   "source": [
    "# #Sort Data\n",
    "# est_hosp.sort_values(\"Municipio\", inplace = True) \n",
    "\n",
    "# #Collum see equal data\n",
    "# collum_property_id = est_hosp['Municipio']\n",
    "\n",
    "# # dropping ALL duplicte values \n",
    "# est_hosp.drop_duplicates(subset =\"Municipio\", keep = False, inplace = True)\n",
    "\n",
    "#Exclude the last (2) lines\n",
    "est_hosp = est_hosp.drop(est_hosp.index[5597])\n",
    "est_hosp = est_hosp.drop(est_hosp.index[5596])\n"
   ]
  },
  {
   "cell_type": "markdown",
   "metadata": {},
   "source": [
    "### Type Data"
   ]
  },
  {
   "cell_type": "code",
   "execution_count": null,
   "metadata": {
    "ExecuteTime": {
     "end_time": "2019-10-21T20:33:39.061892Z",
     "start_time": "2019-10-21T20:33:39.013833Z"
    }
   },
   "outputs": [],
   "source": [
    "# est_hosp.dtypes\n",
    "\n",
    "new_names = ['2014/Jan', '2014/Fev', '2014/Mar', '2014/Abr', '2014/Mai', '2014/Jun', '2014/Jul', '2014/Ago', '2014/Set', '2014/Out', '2014/Nov', '2014/Dez',\n",
    "             '2015/Jan', '2015/Fev', '2015/Mar', '2015/Abr', '2015/Mai', '2015/Jun', '2015/Jul', '2015/Ago', '2015/Set', '2015/Out', '2015/Nov', '2015/Dez',\n",
    "             '2016/Jan', '2016/Fev', '2016/Mar', '2016/Abr', '2016/Mai', '2016/Jun', '2016/Jul', '2016/Ago', '2016/Set', '2016/Out', '2016/Nov', '2016/Dez',\n",
    "             '2017/Jan', '2017/Fev', '2017/Mar', '2017/Abr', '2017/Mai', '2017/Jun', '2017/Jul', '2017/Ago', '2017/Set', '2017/Out', '2017/Nov', '2017/Dez',\n",
    "             '2018/Jan', '2018/Fev', '2018/Mar', '2018/Abr', '2018/Mai', '2018/Jun', '2018/Jul', '2018/Ago', '2018/Set', '2018/Out', '2018/Nov', '2018/Dez']\n",
    "#Convert to value! just Convert '-' to NaN\n",
    "est_hosp = est_hosp.replace('-',np.NaN)\n"
   ]
  },
  {
   "cell_type": "markdown",
   "metadata": {},
   "source": [
    "### Describe data"
   ]
  },
  {
   "cell_type": "code",
   "execution_count": null,
   "metadata": {
    "ExecuteTime": {
     "end_time": "2019-10-21T20:33:39.926800Z",
     "start_time": "2019-10-21T20:33:39.598763Z"
    }
   },
   "outputs": [],
   "source": [
    "est_hosp.describe()\n",
    "print(est_hosp.describe())"
   ]
  },
  {
   "cell_type": "code",
   "execution_count": null,
   "metadata": {
    "ExecuteTime": {
     "end_time": "2019-10-21T20:33:40.482763Z",
     "start_time": "2019-10-21T20:33:40.462764Z"
    }
   },
   "outputs": [],
   "source": [
    "# Ou seja, basicamente não houve melhora na elaboração dos dados dependente do mês e até mesmo ano!\n",
    "est_hosp2 = est_hosp.copy()\n",
    "quant_NaN_porcent = (est_hosp2.isna().sum() / est_hosp2.shape[0])*100\n",
    "with pd.option_context('display.max_rows', None, 'display.max_columns', None):  # more options can be specified also\n",
    "    print(quant_NaN_porcent)"
   ]
  },
  {
   "cell_type": "markdown",
   "metadata": {},
   "source": [
    "### Separate Line with 60% complete lines without NaN"
   ]
  },
  {
   "cell_type": "code",
   "execution_count": null,
   "metadata": {
    "ExecuteTime": {
     "end_time": "2019-10-21T20:39:15.925436Z",
     "start_time": "2019-10-21T20:39:15.909434Z"
    }
   },
   "outputs": [],
   "source": [
    "# a = np.array(est_hosp2.isnull().sum(axis=1))\n",
    "# saida_f_t = np.reshape(np.asarray([a<25]),[np.asarray([a<25]).shape[1],1])\n",
    "num = 12 # Ou seja, deve ter no maximo 25 numeros NAN\n",
    "saida_f_t = np.reshape(np.asarray([np.array(est_hosp2.isnull().sum(axis=1))<num]),[np.asarray([np.array(est_hosp2.isnull().sum(axis=1))<num]).shape[1],1])\n",
    "# saida_f_t.shape\n",
    "# sum(saida_f_t)\n",
    "\n",
    "#Applied \n",
    "est_hosp3 = est_hosp.copy()\n",
    "est_hosp3 = est_hosp3[saida_f_t]"
   ]
  },
  {
   "cell_type": "code",
   "execution_count": null,
   "metadata": {
    "ExecuteTime": {
     "end_time": "2019-10-21T21:21:22.349246Z",
     "start_time": "2019-10-21T21:21:22.295805Z"
    },
    "scrolled": false
   },
   "outputs": [],
   "source": [
    "# Break Municipio and Val_Municipio (id = Brasil Region)\n",
    "est_hosp4 = est_hosp3.copy()\n",
    "aux_colum = est_hosp4[\"Municipio\"].str.split(\" \", n = 1, expand = True)\n",
    "est_hosp4[\"Municipio\"]= aux_colum[1] \n",
    "# est_hosp4[\"Val_Municipio\"]= aux_colum[0]\n",
    "est_hosp4.insert(0, \"Val_Municipio\", aux_colum[0].values, True) \n",
    "\n",
    "# est_hosp4[\"Estado\"] = est_hosp4[\"Val_Municipio\"].str[0:2]\n",
    "est_hosp4.insert(0, \"Estado\",  est_hosp4[\"Val_Municipio\"].str[0:2], True) \n",
    "\n",
    "#Convert int\n",
    "est_hosp4[\"Estado\"] = est_hosp4[\"Estado\"].apply(pd.to_numeric, errors='coerce')\n",
    "est_hosp4[\"Val_Municipio\"] = est_hosp4[\"Val_Municipio\"].apply(pd.to_numeric, errors='coerce')\n",
    "\n",
    "# aux = est_hosp4.Val_Municipio.astype(int)\n",
    "# est_hosp4.dtypes\n",
    "est_hosp4"
   ]
  },
  {
   "cell_type": "markdown",
   "metadata": {},
   "source": [
    "### Call .csv to separate by states"
   ]
  },
  {
   "cell_type": "code",
   "execution_count": null,
   "metadata": {
    "ExecuteTime": {
     "end_time": "2019-10-21T21:21:23.909761Z",
     "start_time": "2019-10-21T21:21:23.901565Z"
    }
   },
   "outputs": [],
   "source": [
    "# #Github\n",
    "# # states_la_lo = pd.read_csv('../data/municipios_git.csv', sep=';', skiprows=3)\n",
    "# # states_la_lo\n",
    "\n",
    "\n",
    "#Tratamento do Dado do Governo (Aprendizado eh q a numeracao do ID vem do estado os dois primeiros valores!)\n",
    "# #Dados Governo\n",
    "# states_cid = pd.read_excel('../data/municipios_gov.xls')\n",
    "# states_cid = states_cid.drop(['Nome_UF',\n",
    "#                               'Mesorregião Geográfica',\n",
    "#                               'Microrregião Geográfica',\n",
    "#                               'Nome_Microrregião',\n",
    "#                               'Nome_Mesorregião',\n",
    "#                               'Município'], axis='columns')\n",
    "# states_cid"
   ]
  },
  {
   "cell_type": "markdown",
   "metadata": {},
   "source": [
    "### Do Plot for State!"
   ]
  },
  {
   "cell_type": "code",
   "execution_count": null,
   "metadata": {
    "ExecuteTime": {
     "end_time": "2019-10-21T21:27:33.119524Z",
     "start_time": "2019-10-21T21:27:33.106126Z"
    }
   },
   "outputs": [],
   "source": [
    "values = 11,12,13,14,15,16,17,21,22,23,24,25,26,27,28,29,31,32,33,35,41,42,43,50,51,52,53\n",
    "states = 'RO','AC','AM','RR','PA','AP','TO','MA','PI','CE','RN','PB','PE','AL','SE','BA','MG','ES','RJ','SP','PR','SC','RS','MS','MT','GO','DF'\n",
    "state_dict = dict(zip(values, states))\n",
    "state_dict[11]\n",
    "#São 60 meses ou 5 anos!"
   ]
  },
  {
   "cell_type": "code",
   "execution_count": null,
   "metadata": {
    "ExecuteTime": {
     "end_time": "2019-10-21T21:27:34.732573Z",
     "start_time": "2019-10-21T21:27:34.696056Z"
    },
    "scrolled": false
   },
   "outputs": [],
   "source": [
    "#Plot por estado / ano / describe\n",
    "est_hosp5 = est_hosp4.copy()\n",
    "est_hosp5\n",
    "sum(est_hosp5['Estado']==11)"
   ]
  },
  {
   "cell_type": "code",
   "execution_count": null,
   "metadata": {
    "ExecuteTime": {
     "end_time": "2019-10-21T21:27:20.250748Z",
     "start_time": "2019-10-21T21:27:20.242748Z"
    }
   },
   "outputs": [],
   "source": []
  },
  {
   "cell_type": "code",
   "execution_count": null,
   "metadata": {
    "ExecuteTime": {
     "end_time": "2019-10-21T21:27:36.396642Z",
     "start_time": "2019-10-21T21:27:36.372647Z"
    },
    "scrolled": false
   },
   "outputs": [],
   "source": [
    "est_hosp5 = est_hosp5[est_hosp5['Estado']==11]\n",
    "est_hosp5"
   ]
  },
  {
   "cell_type": "code",
   "execution_count": null,
   "metadata": {
    "ExecuteTime": {
     "start_time": "2019-10-21T21:53:07.674Z"
    }
   },
   "outputs": [],
   "source": [
    "# numerical = est_hosp5._get_numeric_data().columns\n",
    "# est_hosp5[numerical].hist(bins=15, figsize=(30, 20))\n",
    "from pandas.plotting import scatter_matrix\n",
    "scatter_matrix(est_hosp5, alpha=0.2, figsize=(6, 6), diagonal='kde')\n"
   ]
  },
  {
   "cell_type": "code",
   "execution_count": null,
   "metadata": {
    "ExecuteTime": {
     "end_time": "2019-10-21T21:45:48.975501Z",
     "start_time": "2019-10-21T21:45:48.967501Z"
    }
   },
   "outputs": [],
   "source": [
    "col #-> legend"
   ]
  },
  {
   "cell_type": "code",
   "execution_count": null,
   "metadata": {
    "ExecuteTime": {
     "end_time": "2019-10-21T21:45:47.077723Z",
     "start_time": "2019-10-21T21:45:47.057723Z"
    }
   },
   "outputs": [],
   "source": [
    "values_np = est_hosp5.values[:,3:values.shape[1]] \n",
    "col = est_hosp5['Municipio'].values\n",
    "df2 = pd.DataFrame(values_np, columns= col)\n",
    "df2.plot.bar();"
   ]
  },
  {
   "cell_type": "code",
   "execution_count": null,
   "metadata": {},
   "outputs": [],
   "source": [
    "def plot_state_perid(y):\n",
    "    states = pd.unique(y['Estado'])\n",
    "    for state in states:\n",
    "        x = y[y['Estado'] == state]           \n",
    "        \n",
    "        plt.title('Estado: %s / Organizações: %s' %(state_dict[state],x.shape[0])) \n",
    "        plt.show()\n",
    "\n",
    "plot_state_perid(est_hosp5)"
   ]
  }
 ],
 "metadata": {
  "kernelspec": {
   "display_name": "BcgCancer",
   "language": "python",
   "name": "bcgcancer"
  },
  "language_info": {
   "codemirror_mode": {
    "name": "ipython",
    "version": 3
   },
   "file_extension": ".py",
   "mimetype": "text/x-python",
   "name": "python",
   "nbconvert_exporter": "python",
   "pygments_lexer": "ipython3",
   "version": "3.7.4"
  },
  "toc": {
   "base_numbering": 1,
   "nav_menu": {},
   "number_sections": true,
   "sideBar": true,
   "skip_h1_title": false,
   "title_cell": "Table of Contents",
   "title_sidebar": "Contents",
   "toc_cell": false,
   "toc_position": {
    "height": "calc(100% - 180px)",
    "left": "10px",
    "top": "150px",
    "width": "253.545px"
   },
   "toc_section_display": true,
   "toc_window_display": false
  },
  "varInspector": {
   "cols": {
    "lenName": 16,
    "lenType": 16,
    "lenVar": 40
   },
   "kernels_config": {
    "python": {
     "delete_cmd_postfix": "",
     "delete_cmd_prefix": "del ",
     "library": "var_list.py",
     "varRefreshCmd": "print(var_dic_list())"
    },
    "r": {
     "delete_cmd_postfix": ") ",
     "delete_cmd_prefix": "rm(",
     "library": "var_list.r",
     "varRefreshCmd": "cat(var_dic_list()) "
    }
   },
   "oldHeight": 192.090454,
   "position": {
    "height": "40px",
    "left": "1031.36px",
    "right": "20px",
    "top": "12px",
    "width": "352.534px"
   },
   "types_to_exclude": [
    "module",
    "function",
    "builtin_function_or_method",
    "instance",
    "_Feature"
   ],
   "varInspector_section_display": "none",
   "window_display": true
  }
 },
 "nbformat": 4,
 "nbformat_minor": 2
}
