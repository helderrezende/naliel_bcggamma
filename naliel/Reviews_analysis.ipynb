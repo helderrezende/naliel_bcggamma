{
 "cells": [
  {
   "cell_type": "code",
   "execution_count": 1,
   "metadata": {},
   "outputs": [],
   "source": [
    "import pandas as pd\n",
    "import os\n",
    "\n",
    "from datalayer import read_csv_sia, read_sia_model, _merge_by_year_and_month\n",
    "import utils\n",
    "import feature_engineering\n",
    "import external_data"
   ]
  },
  {
   "cell_type": "code",
   "execution_count": 2,
   "metadata": {},
   "outputs": [],
   "source": [
    "ESTABELECIMENTO_FILES = {'Estabelecimentos- Clínicas-Ambulatórios Especializados.csv' : 'CLINICAS_AMB_ESPECIALIZADO',\n",
    "                              'Estabelecimentos- Hospital Especializado.csv': 'HOSPITAL_ESPECIALIZADO',\n",
    "                              'Estabelecimentos- Hospital Geral.csv': 'HOSPITAL_GERAL',\n",
    "                              'Estabelecimentos- Unidade Básica de Saúde.csv': 'UN_BASICA_SAUDE',\n",
    "                              'Estabelecimentos- Unidade de Serviço de Apoio ao Diagnose e Terapia.csv': 'UN_DIAG_TERAPIA'}"
   ]
  },
  {
   "cell_type": "code",
   "execution_count": 42,
   "metadata": {},
   "outputs": [
    {
     "name": "stderr",
     "output_type": "stream",
     "text": [
      "b'Skipping line 100354: expected 74 fields, saw 87\\n'\n"
     ]
    }
   ],
   "source": [
    "data = read_csv_sia('../data/Mama Radioterapia SIA-SUS.csv', 'radioterapia')\n",
    "\n",
    "data = data[data['AP_TPAPAC']==1] # removes data that are not from the first authorization\n",
    "\n",
    "data = data[data['AR_DTIDEN'] >= pd.to_datetime('2014-01-01')].copy() # filter date: date >= 2014-01-01\n",
    "\n",
    "data = feature_engineering.transform_cep_in_feature(data, ['AP_CEPPCN'])\n",
    "\n",
    "data = external_data.get_municipio_info(data, ['AP_MUNPCN', 'AP_UFMUN'])\n",
    "data = external_data.get_municipio_info_atlas(data, ['AP_MUNPCN'])\n",
    "\n",
    "data = external_data.get_cep_info(data, ['AP_CEPPCN'])\n",
    "data = external_data.get_cnes_loc(data, ['AP_CODUNI']) \n",
    "    \n",
    "data = utils.create_year_month_date(data, ['AR_DTIDEN'])\n",
    "data = utils.create_year_date(data, ['AR_DTIDEN'])\n",
    "\n",
    "data = external_data.get_orcamento_publico(data, ['AP_MUNPCN'], 'AR_DTIDEN_YEAR') \n",
    "\n",
    "data = _merge_by_year_and_month(data, ESTABELECIMENTO_FILES, 'estabelecimento')\n",
    "\n",
    "data['DISTANCE_HOSPITAL'] = data.apply(lambda x: utils.calc_distance_lat_long(x['AP_CEPPCN_LATITUDE'],\n",
    "                                                                                 x['AP_CEPPCN_LONGITUDE'],\n",
    "                                                                                 x['AP_CODUNI_LATITUDE'],\n",
    "                                                                                 x['AP_CODUNI_LONGITUDE']), 1)\n",
    "\n",
    "    \n",
    "data = data[['AP_CODUNI', 'AP_CODUNI_LATITUDE' , 'AP_CODUNI_LONGITUDE', 'AP_UFMUN']]"
   ]
  },
  {
   "cell_type": "code",
   "execution_count": 43,
   "metadata": {},
   "outputs": [],
   "source": [
    "review = pd.read_csv('data/reviews.csv', sep=';')\n",
    "new = set(data['AP_CODUNI'].unique()) - set(review['AP_CODUNI'].unique())\n",
    "data_model = data[data['AP_CODUNI'].isin(new)]"
   ]
  },
  {
   "cell_type": "code",
   "execution_count": 45,
   "metadata": {},
   "outputs": [],
   "source": [
    "municipio = pd.read_csv('../data/municipios.csv', sep=',')\n",
    "municipio.columns = [x.upper() for x in municipio.columns]\n",
    "\n",
    "municipio['CODIGO_IBGE'] = municipio['CODIGO_IBGE'].astype(str)\n",
    "# numero verificador removed\n",
    "municipio['CODIGO_IBGE'] = municipio['CODIGO_IBGE'].str[:-1]\n",
    "municipio['CODIGO_IBGE'] = pd.to_numeric(municipio['CODIGO_IBGE'])\n",
    "\n",
    "municipio = municipio.rename(columns={'CODIGO_IBGE': 'AP_UFMUN'})\n",
    "\n",
    "municipio = municipio[['AP_UFMUN', 'NOME']].copy()"
   ]
  },
  {
   "cell_type": "code",
   "execution_count": 46,
   "metadata": {},
   "outputs": [],
   "source": [
    "data_model = data_model.merge(municipio, on='AP_UFMUN', how='left')\n",
    "data_model = data_model.drop_duplicates(subset='AP_CODUNI')\n",
    "data_model = data_model.sort_values('AP_CODUNI')"
   ]
  },
  {
   "cell_type": "code",
   "execution_count": 48,
   "metadata": {},
   "outputs": [],
   "source": [
    "cnes_df = pd.read_csv('data/espelho cnes nome fantasia.csv', sep=';', encoding='latin1')\n",
    "cnes_df = cnes_df.rename(columns={'cnes': 'AP_CODUNI'})\n",
    "data_model = data_model.merge(cnes_df, on='AP_CODUNI', how='left')"
   ]
  },
  {
   "cell_type": "code",
   "execution_count": 50,
   "metadata": {},
   "outputs": [
    {
     "data": {
      "text/html": [
       "<div>\n",
       "<style scoped>\n",
       "    .dataframe tbody tr th:only-of-type {\n",
       "        vertical-align: middle;\n",
       "    }\n",
       "\n",
       "    .dataframe tbody tr th {\n",
       "        vertical-align: top;\n",
       "    }\n",
       "\n",
       "    .dataframe thead th {\n",
       "        text-align: right;\n",
       "    }\n",
       "</style>\n",
       "<table border=\"1\" class=\"dataframe\">\n",
       "  <thead>\n",
       "    <tr style=\"text-align: right;\">\n",
       "      <th></th>\n",
       "      <th>AP_CODUNI</th>\n",
       "      <th>AP_CODUNI_LATITUDE</th>\n",
       "      <th>AP_CODUNI_LONGITUDE</th>\n",
       "      <th>AP_UFMUN</th>\n",
       "      <th>NOME</th>\n",
       "      <th>nome fantasia</th>\n",
       "    </tr>\n",
       "  </thead>\n",
       "  <tbody>\n",
       "    <tr>\n",
       "      <th>0</th>\n",
       "      <td>2273462</td>\n",
       "      <td>-22.91685</td>\n",
       "      <td>-43.26205</td>\n",
       "      <td>330455</td>\n",
       "      <td>Rio de Janeiro</td>\n",
       "      <td>MS INCA HOSPITAL DO CANCER III</td>\n",
       "    </tr>\n",
       "    <tr>\n",
       "      <th>1</th>\n",
       "      <td>2287447</td>\n",
       "      <td>-21.75851</td>\n",
       "      <td>-41.33476</td>\n",
       "      <td>330100</td>\n",
       "      <td>Campos dos Goytacazes</td>\n",
       "      <td>HOSPITAL ESCOLA ALVARO ALVIM</td>\n",
       "    </tr>\n",
       "    <tr>\n",
       "      <th>2</th>\n",
       "      <td>2697696</td>\n",
       "      <td>-2.53876</td>\n",
       "      <td>-44.27914</td>\n",
       "      <td>211130</td>\n",
       "      <td>São Luís</td>\n",
       "      <td>INSTITUTO MARANHENSE DE ONCOLOGIA ALDENORA BEL...</td>\n",
       "    </tr>\n",
       "    <tr>\n",
       "      <th>3</th>\n",
       "      <td>6497489</td>\n",
       "      <td>-5.52441</td>\n",
       "      <td>-47.47751</td>\n",
       "      <td>210530</td>\n",
       "      <td>Imperatriz</td>\n",
       "      <td>ONCORADIUM</td>\n",
       "    </tr>\n",
       "    <tr>\n",
       "      <th>4</th>\n",
       "      <td>7068336</td>\n",
       "      <td>-8.76200</td>\n",
       "      <td>-63.90400</td>\n",
       "      <td>110020</td>\n",
       "      <td>Porto Velho</td>\n",
       "      <td>HOSPITAL DE AMOR AMAZONIA</td>\n",
       "    </tr>\n",
       "  </tbody>\n",
       "</table>\n",
       "</div>"
      ],
      "text/plain": [
       "   AP_CODUNI  AP_CODUNI_LATITUDE  AP_CODUNI_LONGITUDE  AP_UFMUN  \\\n",
       "0    2273462           -22.91685            -43.26205    330455   \n",
       "1    2287447           -21.75851            -41.33476    330100   \n",
       "2    2697696            -2.53876            -44.27914    211130   \n",
       "3    6497489            -5.52441            -47.47751    210530   \n",
       "4    7068336            -8.76200            -63.90400    110020   \n",
       "\n",
       "                    NOME                                      nome fantasia  \n",
       "0         Rio de Janeiro                     MS INCA HOSPITAL DO CANCER III  \n",
       "1  Campos dos Goytacazes                       HOSPITAL ESCOLA ALVARO ALVIM  \n",
       "2               São Luís  INSTITUTO MARANHENSE DE ONCOLOGIA ALDENORA BEL...  \n",
       "3             Imperatriz                                         ONCORADIUM  \n",
       "4            Porto Velho                          HOSPITAL DE AMOR AMAZONIA  "
      ]
     },
     "execution_count": 50,
     "metadata": {},
     "output_type": "execute_result"
    }
   ],
   "source": [
    "data_model.head(10)"
   ]
  },
  {
   "cell_type": "code",
   "execution_count": null,
   "metadata": {},
   "outputs": [],
   "source": []
  }
 ],
 "metadata": {
  "kernelspec": {
   "display_name": "env2",
   "language": "python",
   "name": "env2"
  },
  "language_info": {
   "codemirror_mode": {
    "name": "ipython",
    "version": 3
   },
   "file_extension": ".py",
   "mimetype": "text/x-python",
   "name": "python",
   "nbconvert_exporter": "python",
   "pygments_lexer": "ipython3",
   "version": "3.7.3"
  }
 },
 "nbformat": 4,
 "nbformat_minor": 2
}
