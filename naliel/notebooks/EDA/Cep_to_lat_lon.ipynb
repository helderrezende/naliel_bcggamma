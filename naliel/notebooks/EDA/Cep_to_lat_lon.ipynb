{
 "cells": [
  {
   "cell_type": "code",
   "execution_count": 1,
   "metadata": {
    "colab": {
     "base_uri": "https://localhost:8080/",
     "height": 354
    },
    "colab_type": "code",
    "id": "DL42N8cPbaRt",
    "outputId": "0d99d4c6-c391-40a2-9ffa-0bf686f83cf1"
   },
   "outputs": [
    {
     "name": "stdout",
     "output_type": "stream",
     "text": [
      "Requirement already satisfied: pycep-correios in /usr/local/lib/python3.6/dist-packages (3.2.0)\n",
      "Requirement already satisfied: zeep>=2.0.0 in /usr/local/lib/python3.6/dist-packages (from pycep-correios) (3.4.0)\n",
      "Requirement already satisfied: deprecation in /usr/local/lib/python3.6/dist-packages (from pycep-correios) (2.0.7)\n",
      "Requirement already satisfied: requests>=2.7.0 in /usr/local/lib/python3.6/dist-packages (from zeep>=2.0.0->pycep-correios) (2.21.0)\n",
      "Requirement already satisfied: appdirs>=1.4.0 in /usr/local/lib/python3.6/dist-packages (from zeep>=2.0.0->pycep-correios) (1.4.3)\n",
      "Requirement already satisfied: lxml>=3.1.0 in /usr/local/lib/python3.6/dist-packages (from zeep>=2.0.0->pycep-correios) (4.2.6)\n",
      "Requirement already satisfied: six>=1.9.0 in /usr/local/lib/python3.6/dist-packages (from zeep>=2.0.0->pycep-correios) (1.12.0)\n",
      "Requirement already satisfied: cached-property>=1.3.0 in /usr/local/lib/python3.6/dist-packages (from zeep>=2.0.0->pycep-correios) (1.5.1)\n",
      "Requirement already satisfied: requests-toolbelt>=0.7.1 in /usr/local/lib/python3.6/dist-packages (from zeep>=2.0.0->pycep-correios) (0.9.1)\n",
      "Requirement already satisfied: isodate>=0.5.4 in /usr/local/lib/python3.6/dist-packages (from zeep>=2.0.0->pycep-correios) (0.6.0)\n",
      "Requirement already satisfied: defusedxml>=0.4.1 in /usr/local/lib/python3.6/dist-packages (from zeep>=2.0.0->pycep-correios) (0.6.0)\n",
      "Requirement already satisfied: attrs>=17.2.0 in /usr/local/lib/python3.6/dist-packages (from zeep>=2.0.0->pycep-correios) (19.3.0)\n",
      "Requirement already satisfied: pytz in /usr/local/lib/python3.6/dist-packages (from zeep>=2.0.0->pycep-correios) (2018.9)\n",
      "Requirement already satisfied: packaging in /usr/local/lib/python3.6/dist-packages (from deprecation->pycep-correios) (19.2)\n",
      "Requirement already satisfied: chardet<3.1.0,>=3.0.2 in /usr/local/lib/python3.6/dist-packages (from requests>=2.7.0->zeep>=2.0.0->pycep-correios) (3.0.4)\n",
      "Requirement already satisfied: idna<2.9,>=2.5 in /usr/local/lib/python3.6/dist-packages (from requests>=2.7.0->zeep>=2.0.0->pycep-correios) (2.8)\n",
      "Requirement already satisfied: certifi>=2017.4.17 in /usr/local/lib/python3.6/dist-packages (from requests>=2.7.0->zeep>=2.0.0->pycep-correios) (2019.9.11)\n",
      "Requirement already satisfied: urllib3<1.25,>=1.21.1 in /usr/local/lib/python3.6/dist-packages (from requests>=2.7.0->zeep>=2.0.0->pycep-correios) (1.24.3)\n",
      "Requirement already satisfied: pyparsing>=2.0.2 in /usr/local/lib/python3.6/dist-packages (from packaging->deprecation->pycep-correios) (2.4.2)\n"
     ]
    }
   ],
   "source": [
    "!pip install pycep-correios"
   ]
  },
  {
   "cell_type": "code",
   "execution_count": 2,
   "metadata": {
    "colab": {
     "base_uri": "https://localhost:8080/",
     "height": 50
    },
    "colab_type": "code",
    "id": "WpHRaeSfasU9",
    "outputId": "1aca0189-ee0c-4737-82dc-2b5d77a8ccd5"
   },
   "outputs": [
    {
     "name": "stdout",
     "output_type": "stream",
     "text": [
      "{'User-Agent': 'my_app/1'}\n",
      "7\n"
     ]
    }
   ],
   "source": [
    "import geopy.geocoders\n",
    "from geopy.geocoders import Nominatim\n",
    "geopy.geocoders.options.default_user_agent = 'my_app/1'\n",
    "geopy.geocoders.options.default_timeout = 7\n",
    "geolocator = Nominatim()\n",
    "print(geolocator.headers)\n",
    "print(geolocator.timeout)\n"
   ]
  },
  {
   "cell_type": "code",
   "execution_count": 0,
   "metadata": {
    "colab": {},
    "colab_type": "code",
    "id": "Db7Av_HibVcN"
   },
   "outputs": [],
   "source": [
    "import pycep_correios\n",
    "\n"
   ]
  },
  {
   "cell_type": "code",
   "execution_count": 4,
   "metadata": {
    "colab": {
     "base_uri": "https://localhost:8080/",
     "height": 100
    },
    "colab_type": "code",
    "id": "KXNi6x8gbVSf",
    "outputId": "cd6c2e83-c747-4ce4-86bc-813027c4e3fa"
   },
   "outputs": [
    {
     "name": "stdout",
     "output_type": "stream",
     "text": [
      "Avenida Presidente Juscelino Kubitschek\n",
      "Monte Castelo\n",
      "São José dos Campos\n",
      "SP\n",
      "12215380\n"
     ]
    }
   ],
   "source": [
    "endereco = pycep_correios.consultar_cep('12215380')\n",
    "\n",
    "print(endereco['end'])\n",
    "print(endereco['bairro'])\n",
    "print(endereco['cidade'])\n",
    "# print(endereco['complemento'])\n",
    "# print(endereco['complemento2'])\n",
    "print(endereco['uf'])\n",
    "print(endereco['cep'])\n"
   ]
  },
  {
   "cell_type": "code",
   "execution_count": 5,
   "metadata": {
    "colab": {
     "base_uri": "https://localhost:8080/",
     "height": 33
    },
    "colab_type": "code",
    "id": "g3M-pqIWccio",
    "outputId": "1bf90ca5-a621-4139-b458-f0eaee20f9e8"
   },
   "outputs": [
    {
     "data": {
      "text/plain": [
       "'Avenida Presidente Juscelino Kubitschek, São José dos Campos'"
      ]
     },
     "execution_count": 5,
     "metadata": {
      "tags": []
     },
     "output_type": "execute_result"
    }
   ],
   "source": [
    "a = endereco['end'] +', '+ endereco['cidade']\n",
    "a"
   ]
  },
  {
   "cell_type": "code",
   "execution_count": 6,
   "metadata": {
    "colab": {
     "base_uri": "https://localhost:8080/",
     "height": 87
    },
    "colab_type": "code",
    "id": "JoR8AdyjcFW-",
    "outputId": "7f5a0b25-cbdf-4ceb-e79c-5d97363b63d7"
   },
   "outputs": [
    {
     "name": "stdout",
     "output_type": "stream",
     "text": [
      "Avenida Presidente Juscelino Kubitschek, Monte Castelo, São José dos Campos, Região Imediata de São José dos Campos, RMVPLN;RMVale, Região Intermediária de São José dos Campos, SP, Região Sudeste, 12215290, Brasil\n",
      "(-23.1809612, -45.8694208)\n",
      "{'place_id': 105393417, 'licence': 'Data © OpenStreetMap contributors, ODbL 1.0. https://osm.org/copyright', 'osm_type': 'way', 'osm_id': 130577816, 'boundingbox': ['-23.1811373', '-23.1808712', '-45.8697646', '-45.8690842'], 'lat': '-23.1809612', 'lon': '-45.8694208', 'display_name': 'Avenida Presidente Juscelino Kubitschek, Monte Castelo, São José dos Campos, Região Imediata de São José dos Campos, RMVPLN;RMVale, Região Intermediária de São José dos Campos, SP, Região Sudeste, 12215290, Brasil', 'class': 'highway', 'type': 'primary', 'importance': 0.9}\n"
     ]
    }
   ],
   "source": [
    "# geolocator = Nominatim(user_agent=\"specify_your_app_name_here\")\n",
    "location = geolocator.geocode(a)\n",
    "print(location.address)\n",
    "print((location.latitude, location.longitude))\n",
    "print(location.raw)"
   ]
  },
  {
   "cell_type": "code",
   "execution_count": 23,
   "metadata": {
    "ExecuteTime": {
     "end_time": "2019-10-25T16:59:50.528750Z",
     "start_time": "2019-10-25T16:59:50.522832Z"
    },
    "colab": {},
    "colab_type": "code",
    "id": "rOcTFF9GcPDG"
   },
   "outputs": [
    {
     "name": "stdout",
     "output_type": "stream",
     "text": [
      "{'User-Agent': 'my_app/1'}\n",
      "7\n"
     ]
    }
   ],
   "source": [
    "import geopy.geocoders\n",
    "from geopy.geocoders import Nominatim\n",
    "geopy.geocoders.options.default_user_agent = 'my_app/1'\n",
    "geopy.geocoders.options.default_timeout = 7\n",
    "geolocator = Nominatim()\n",
    "print(geolocator.headers)\n",
    "print(geolocator.timeout)"
   ]
  },
  {
   "cell_type": "code",
   "execution_count": 36,
   "metadata": {
    "ExecuteTime": {
     "end_time": "2019-10-25T17:05:02.256195Z",
     "start_time": "2019-10-25T17:05:01.283847Z"
    }
   },
   "outputs": [],
   "source": [
    "location = geolocator.geocode('02721-030')"
   ]
  },
  {
   "cell_type": "code",
   "execution_count": null,
   "metadata": {},
   "outputs": [],
   "source": []
  },
  {
   "cell_type": "code",
   "execution_count": 37,
   "metadata": {
    "ExecuteTime": {
     "end_time": "2019-10-25T17:05:02.958984Z",
     "start_time": "2019-10-25T17:05:02.956263Z"
    }
   },
   "outputs": [],
   "source": [
    "location"
   ]
  },
  {
   "cell_type": "code",
   "execution_count": 38,
   "metadata": {
    "ExecuteTime": {
     "end_time": "2019-10-25T17:05:04.073881Z",
     "start_time": "2019-10-25T17:05:04.066805Z"
    }
   },
   "outputs": [
    {
     "ename": "AttributeError",
     "evalue": "'NoneType' object has no attribute 'latitude'",
     "output_type": "error",
     "traceback": [
      "\u001b[0;31m---------------------------------------------------------------------------\u001b[0m",
      "\u001b[0;31mAttributeError\u001b[0m                            Traceback (most recent call last)",
      "\u001b[0;32m<ipython-input-38-c53212dcb19d>\u001b[0m in \u001b[0;36m<module>\u001b[0;34m\u001b[0m\n\u001b[0;32m----> 1\u001b[0;31m \u001b[0mprint\u001b[0m\u001b[0;34m(\u001b[0m\u001b[0;34m(\u001b[0m\u001b[0mlocation\u001b[0m\u001b[0;34m.\u001b[0m\u001b[0mlatitude\u001b[0m\u001b[0;34m,\u001b[0m \u001b[0mlocation\u001b[0m\u001b[0;34m.\u001b[0m\u001b[0mlongitude\u001b[0m\u001b[0;34m)\u001b[0m\u001b[0;34m)\u001b[0m\u001b[0;34m\u001b[0m\u001b[0;34m\u001b[0m\u001b[0m\n\u001b[0m",
      "\u001b[0;31mAttributeError\u001b[0m: 'NoneType' object has no attribute 'latitude'"
     ]
    }
   ],
   "source": [
    "print((location.latitude, location.longitude))"
   ]
  },
  {
   "cell_type": "code",
   "execution_count": null,
   "metadata": {},
   "outputs": [],
   "source": []
  }
 ],
 "metadata": {
  "colab": {
   "name": "Cep_to_lat_lon.ipynb",
   "provenance": []
  },
  "kernelspec": {
   "display_name": "Python 3",
   "language": "python",
   "name": "python3"
  },
  "language_info": {
   "codemirror_mode": {
    "name": "ipython",
    "version": 3
   },
   "file_extension": ".py",
   "mimetype": "text/x-python",
   "name": "python",
   "nbconvert_exporter": "python",
   "pygments_lexer": "ipython3",
   "version": "3.7.3"
  },
  "toc": {
   "base_numbering": 1,
   "nav_menu": {},
   "number_sections": true,
   "sideBar": true,
   "skip_h1_title": false,
   "title_cell": "Table of Contents",
   "title_sidebar": "Contents",
   "toc_cell": false,
   "toc_position": {},
   "toc_section_display": true,
   "toc_window_display": false
  }
 },
 "nbformat": 4,
 "nbformat_minor": 1
}
