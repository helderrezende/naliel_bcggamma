{
 "cells": [
  {
   "cell_type": "code",
   "execution_count": 38,
   "metadata": {
    "ExecuteTime": {
     "end_time": "2019-10-27T19:29:59.598063Z",
     "start_time": "2019-10-27T19:29:59.594640Z"
    }
   },
   "outputs": [],
   "source": [
    "import pandas as pd\n",
    "import os\n",
    "import sys\n",
    "\n",
    "module_path = os.path.abspath(os.path.join('..'))\n",
    "if module_path not in sys.path:\n",
    "    sys.path.append(module_path)\n",
    "\n",
    "from glob import glob\n",
    "import ntpath"
   ]
  },
  {
   "cell_type": "code",
   "execution_count": 55,
   "metadata": {
    "ExecuteTime": {
     "end_time": "2019-10-27T19:33:52.354875Z",
     "start_time": "2019-10-27T19:33:37.302218Z"
    }
   },
   "outputs": [
    {
     "name": "stdout",
     "output_type": "stream",
     "text": [
      "../data/equipamentos/MINAS GERAIS/\n",
      "../data/equipamentos/PARAIBA/\n",
      "../data/equipamentos/MATO GROSSO/\n",
      "../data/equipamentos/DISTRITO FEDERAL/\n",
      "../data/equipamentos/PIAUI/\n",
      "../data/equipamentos/SAO PAULO/\n",
      "../data/equipamentos/AMAZONAS/\n",
      "../data/equipamentos/RONDONIA/\n",
      "../data/equipamentos/TOCANTINS/\n",
      "../data/equipamentos/SANTA CATARINA/\n",
      "../data/equipamentos/RORAIMA/\n",
      "../data/equipamentos/ESPIRITO SANTO/\n",
      "../data/equipamentos/RIO GRANDE DO SUL/\n",
      "../data/equipamentos/ACRE/\n",
      "../data/equipamentos/AMAPA/\n",
      "../data/equipamentos/ALAGOAS/\n",
      "../data/equipamentos/BAHIA/\n",
      "../data/equipamentos/RIO GRANDE DO NORTE/\n",
      "../data/equipamentos/SERGIPE/\n",
      "../data/equipamentos/PARANA/\n",
      "../data/equipamentos/PARA/\n",
      "../data/equipamentos/MATO GROSSO DO SUL/\n",
      "../data/equipamentos/PERNAMBUCO/\n",
      "../data/equipamentos/MARANHAO/\n",
      "../data/equipamentos/GOIAS/\n",
      "../data/equipamentos/CEARA/\n",
      "../data/equipamentos/RIO DE JANEIRO/\n"
     ]
    }
   ],
   "source": [
    "folders_estado = [f for f in glob(\"../data/equipamentos/*/\")]\n",
    "\n",
    "result = pd.DataFrame()\n",
    "for estado in folders_estado:\n",
    "    municipios  = [f for f in glob(estado + '*.csv')]\n",
    "    \n",
    "    estado_name = ntpath.basename(estado[:-1])\n",
    "    \n",
    "    for municipio in municipios:\n",
    "        municipio_name = ntpath.basename(municipio).replace('.csv', '')\n",
    "        \n",
    "        mun_csv = pd.read_csv(municipio)\n",
    "        mun_csv['ESTADO'] = estado_name\n",
    "        mun_csv['MUNICIPIO'] = municipio_name"
   ]
  },
  {
   "cell_type": "code",
   "execution_count": 56,
   "metadata": {
    "ExecuteTime": {
     "end_time": "2019-10-27T19:34:00.490314Z",
     "start_time": "2019-10-27T19:34:00.480162Z"
    }
   },
   "outputs": [
    {
     "data": {
      "text/html": [
       "<div>\n",
       "<style scoped>\n",
       "    .dataframe tbody tr th:only-of-type {\n",
       "        vertical-align: middle;\n",
       "    }\n",
       "\n",
       "    .dataframe tbody tr th {\n",
       "        vertical-align: top;\n",
       "    }\n",
       "\n",
       "    .dataframe thead th {\n",
       "        text-align: right;\n",
       "    }\n",
       "</style>\n",
       "<table border=\"1\" class=\"dataframe\">\n",
       "  <thead>\n",
       "    <tr style=\"text-align: right;\">\n",
       "      <th></th>\n",
       "      <th>Código</th>\n",
       "      <th>Equipamento</th>\n",
       "      <th>Existentes</th>\n",
       "      <th>Em Uso</th>\n",
       "      <th>Existentes SUS</th>\n",
       "      <th>EM uso SUS</th>\n",
       "      <th>ESTADO</th>\n",
       "      <th>MUNICIPIO</th>\n",
       "    </tr>\n",
       "  </thead>\n",
       "  <tbody>\n",
       "    <tr>\n",
       "      <th>0</th>\n",
       "      <td>0</td>\n",
       "      <td>0</td>\n",
       "      <td>0</td>\n",
       "      <td>0</td>\n",
       "      <td>0</td>\n",
       "      <td>0</td>\n",
       "      <td>RIO DE JANEIRO</td>\n",
       "      <td>ANGRA DOS REIS</td>\n",
       "    </tr>\n",
       "  </tbody>\n",
       "</table>\n",
       "</div>"
      ],
      "text/plain": [
       "   Código  Equipamento  Existentes  Em Uso  Existentes SUS  EM uso SUS  \\\n",
       "0       0            0           0       0               0           0   \n",
       "\n",
       "           ESTADO       MUNICIPIO  \n",
       "0  RIO DE JANEIRO  ANGRA DOS REIS  "
      ]
     },
     "execution_count": 56,
     "metadata": {},
     "output_type": "execute_result"
    }
   ],
   "source": [
    "mun_csv"
   ]
  },
  {
   "cell_type": "code",
   "execution_count": null,
   "metadata": {},
   "outputs": [],
   "source": []
  },
  {
   "cell_type": "code",
   "execution_count": null,
   "metadata": {},
   "outputs": [],
   "source": []
  }
 ],
 "metadata": {
  "kernelspec": {
   "display_name": "Python 3",
   "language": "python",
   "name": "python3"
  },
  "language_info": {
   "codemirror_mode": {
    "name": "ipython",
    "version": 3
   },
   "file_extension": ".py",
   "mimetype": "text/x-python",
   "name": "python",
   "nbconvert_exporter": "python",
   "pygments_lexer": "ipython3",
   "version": "3.7.3"
  },
  "toc": {
   "base_numbering": 1,
   "nav_menu": {},
   "number_sections": true,
   "sideBar": true,
   "skip_h1_title": false,
   "title_cell": "Table of Contents",
   "title_sidebar": "Contents",
   "toc_cell": false,
   "toc_position": {},
   "toc_section_display": true,
   "toc_window_display": false
  }
 },
 "nbformat": 4,
 "nbformat_minor": 2
}
