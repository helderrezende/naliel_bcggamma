{
 "cells": [
  {
   "cell_type": "code",
   "execution_count": 1,
   "metadata": {
    "ExecuteTime": {
     "end_time": "2019-10-28T19:05:04.110257Z",
     "start_time": "2019-10-28T19:05:04.104271Z"
    }
   },
   "outputs": [],
   "source": [
    "from IPython.core.interactiveshell import InteractiveShell\n",
    "InteractiveShell.ast_node_interactivity = \"all\""
   ]
  },
  {
   "cell_type": "code",
   "execution_count": null,
   "metadata": {},
   "outputs": [],
   "source": []
  },
  {
   "cell_type": "code",
   "execution_count": 2,
   "metadata": {
    "ExecuteTime": {
     "end_time": "2019-10-28T19:05:05.457898Z",
     "start_time": "2019-10-28T19:05:04.112261Z"
    }
   },
   "outputs": [],
   "source": [
    "import pandas as pd\n",
    "import sys\n",
    "import os\n",
    "import numpy as np\n",
    "module_path = os.path.abspath(os.path.join('..'))\n",
    "if module_path not in sys.path:\n",
    "    sys.path.append(module_path)\n",
    "\n",
    "from datalayer import read_csv_sia\n",
    "import utils\n",
    "\n",
    "\n",
    "pd.set_option('display.max_columns', 500)\n",
    "%matplotlib inline"
   ]
  },
  {
   "cell_type": "code",
   "execution_count": 3,
   "metadata": {
    "ExecuteTime": {
     "end_time": "2019-10-28T19:05:05.467842Z",
     "start_time": "2019-10-28T19:05:05.460859Z"
    }
   },
   "outputs": [],
   "source": [
    "def Nan_see(dat, name, uf_sig):\n",
    "    quant_NaN_porcent = (dat.isna().sum() / dat.shape[0])*100\n",
    "    d = {name: quant_NaN_porcent.index.values, name + '_PF_'+ uf_sig: quant_NaN_porcent.values}\n",
    "    df = pd.DataFrame(data=d)\n",
    "    return (df[name + '_PF_'+ uf_sig])"
   ]
  },
  {
   "cell_type": "code",
   "execution_count": 4,
   "metadata": {
    "ExecuteTime": {
     "end_time": "2019-10-28T19:05:05.799401Z",
     "start_time": "2019-10-28T19:05:05.469835Z"
    }
   },
   "outputs": [],
   "source": [
    "def NaN_data_sim_sia_rf_rh_est(name_data, data_name_sig, skip_var, colum):\n",
    "    UF_num = 11,12,13,14,15,16,17,21,22,23,24,25,26,27,28,29,31,32,33,35,41,42,43,50,51,52,53\n",
    "    UF_sig = 'RO','AC','AM','RR','PA','AP','TO','MA','PI','CE','RN','PB','PE','AL','SE','BA','MG','ES','RJ','SP','PR','SC','RS','MS','MT','GO','DF'\n",
    "\n",
    "    #doença ou caract\n",
    "    for val in range(0,len(name_data)-1):\n",
    "        df_Fim_todos = pd.DataFrame()\n",
    "        if (colum == 'AP_MUNPCN' or colum == 'CODMUNOCOR'):\n",
    "            data = pd.read_csv('../data/' + name_data[val], sep=',', skiprows=0, encoding='latin1', error_bad_lines=False)\n",
    "            data.drop(['Unnamed: 0'], axis=1,inplace=True)\n",
    "            data = data.replace('-',np.nan)\n",
    "            data[colum] = data[colum].astype(str).str.zfill(6)\n",
    "            data['estado'] = data[colum].str[0:2].astype(int)\n",
    "            mid = data['estado']\n",
    "            data.drop(labels=['estado'], axis=1,inplace = True)\n",
    "            data.insert(1, 'estado', mid)\n",
    "            \n",
    "        else:\n",
    "            data = pd.read_csv('../data/' + name_data[val], sep=';', skiprows=skip_var[val], encoding='latin1', error_bad_lines=False)\n",
    "            data = data.replace('-',np.nan)\n",
    "            aux_colum = data[colum].str.split(\" \", n = 1, expand = True)\n",
    "            data[colum]= aux_colum[1] \n",
    "            data.insert(0, \"Val_Municipio\", aux_colum[0].values, True) \n",
    "            data.insert(0, \"estado\",  data[\"Val_Municipio\"].str[0:2], True) \n",
    "            #Convert int\n",
    "            data[\"estado\"] = data[\"estado\"].apply(pd.to_numeric, errors='coerce')\n",
    "            data[\"Val_Municipio\"] = data[\"Val_Municipio\"].apply(pd.to_numeric, errors='coerce')\n",
    "            data = data.dropna(how='any', subset=['estado'])\n",
    "            \n",
    "\n",
    "        #por estado\n",
    "        df_Fim_todos['variaveis'] = data.columns.values\n",
    "        for val1 in range(0,len(UF_sig)-1):\n",
    "            dat = data[data['estado']== UF_num[val1]]\n",
    "            data_aux = Nan_see(dat, data_name_sig[val], UF_sig[val1])\n",
    "            df_Fim_todos = pd.concat([df_Fim_todos, data_aux], axis=1)\n",
    "\n",
    "#         print('\\n\\n\\nDados sobre preenchimento do formulário:', name_data[val])\n",
    "#         with pd.option_context('display.max_rows', None, 'display.max_columns', None):\n",
    "#             display(df_Fim_todos)\n",
    "        df_Fim_todos.to_excel('NaN -Tabela_'+ str(name_data[val]) +'.xlsx') "
   ]
  },
  {
   "cell_type": "code",
   "execution_count": null,
   "metadata": {
    "ExecuteTime": {
     "end_time": "2019-10-27T03:32:47.897676Z",
     "start_time": "2019-10-27T03:32:47.889677Z"
    }
   },
   "outputs": [],
   "source": []
  },
  {
   "cell_type": "markdown",
   "metadata": {},
   "source": [
    "## NaN data SIA QUIMIO"
   ]
  },
  {
   "cell_type": "code",
   "execution_count": 5,
   "metadata": {
    "ExecuteTime": {
     "end_time": "2019-10-28T19:05:05.987690Z",
     "start_time": "2019-10-28T19:05:05.801504Z"
    }
   },
   "outputs": [],
   "source": [
    "name_data = ['Colon e reto Quimioterapia SIA-SUS.csv','Linfomas Quimioterapia SIA-SUS.csv', \n",
    "             'Mama Quimioterapia SIA-SUS.csv', 'Prostata Quimioterapia SIA-SUS.csv', \n",
    "            'Pulmão Quimioterapia SIA-SUS.csv'] \n",
    "\n",
    "skip_var = 0\n",
    "colum = 'AP_MUNPCN'\n",
    "data_name_sig = ['CRQ', 'LQ', 'MQ', 'PrQ', 'PuQ']\n",
    "# NaN_data_sim_sia(name_data, data_name_sig, skip_var, colum)"
   ]
  },
  {
   "cell_type": "code",
   "execution_count": 6,
   "metadata": {
    "ExecuteTime": {
     "end_time": "2019-10-28T19:10:41.912811Z",
     "start_time": "2019-10-28T19:05:05.989692Z"
    }
   },
   "outputs": [
    {
     "name": "stderr",
     "output_type": "stream",
     "text": [
      "C:\\Users\\Natan\\Anaconda3\\envs\\BcgCancer\\lib\\site-packages\\IPython\\core\\interactiveshell.py:3249: DtypeWarning: Columns (38,39,41,42,44,46,61,62) have mixed types. Specify dtype option on import or set low_memory=False.\n",
      "  if (await self.run_code(code, result,  async_=asy)):\n",
      "C:\\Users\\Natan\\Anaconda3\\envs\\BcgCancer\\lib\\site-packages\\IPython\\core\\interactiveshell.py:3249: DtypeWarning: Columns (38,39,41,42,44,45,61) have mixed types. Specify dtype option on import or set low_memory=False.\n",
      "  if (await self.run_code(code, result,  async_=asy)):\n",
      "C:\\Users\\Natan\\Anaconda3\\envs\\BcgCancer\\lib\\site-packages\\IPython\\core\\interactiveshell.py:3249: DtypeWarning: Columns (21,38,39,41,42,44,46,49,51,52,54,56,61,62) have mixed types. Specify dtype option on import or set low_memory=False.\n",
      "  if (await self.run_code(code, result,  async_=asy)):\n",
      "C:\\Users\\Natan\\Anaconda3\\envs\\BcgCancer\\lib\\site-packages\\IPython\\core\\interactiveshell.py:3249: DtypeWarning: Columns (22,29,30,32,33,35,37,38,39,41,42,44,46,49,50,51,52,54,56,61,62) have mixed types. Specify dtype option on import or set low_memory=False.\n",
      "  if (await self.run_code(code, result,  async_=asy)):\n"
     ]
    }
   ],
   "source": [
    "NaN_data_sim_sia_rf_rh_est(name_data, data_name_sig, skip_var, colum)"
   ]
  },
  {
   "cell_type": "markdown",
   "metadata": {},
   "source": [
    "## NaN data SIA RADIO"
   ]
  },
  {
   "cell_type": "code",
   "execution_count": 7,
   "metadata": {
    "ExecuteTime": {
     "end_time": "2019-10-28T19:10:42.256010Z",
     "start_time": "2019-10-28T19:10:41.962232Z"
    }
   },
   "outputs": [],
   "source": [
    "name_data = ['Colon e reto Radioterapia SIA-SUS.csv',\n",
    "             'Linfomas Radioterapia SIA-SUS.csv',\n",
    "             'Mama Radioterapia SIA-SUS.csv',\n",
    "             'Prostata Radioterapia SIA-SUS.csv',\n",
    "             'Pulmão Radioterapia SIA-SUS.csv']\n",
    "skip_var = 0\n",
    "colum = 'AP_MUNPCN'\n",
    "data_name_sig = ['CRR', 'LR', 'MR', 'PrR','PuR']\n",
    "# NaN_data_sim_sia(name_data, data_name_sig, skip_var, colum)"
   ]
  },
  {
   "cell_type": "code",
   "execution_count": 8,
   "metadata": {
    "ExecuteTime": {
     "end_time": "2019-10-28T19:11:03.013236Z",
     "start_time": "2019-10-28T19:10:42.290929Z"
    }
   },
   "outputs": [
    {
     "name": "stderr",
     "output_type": "stream",
     "text": [
      "C:\\Users\\Natan\\Anaconda3\\envs\\BcgCancer\\lib\\site-packages\\IPython\\core\\interactiveshell.py:3249: DtypeWarning: Columns (42) have mixed types. Specify dtype option on import or set low_memory=False.\n",
      "  if (await self.run_code(code, result,  async_=asy)):\n",
      "C:\\Users\\Natan\\Anaconda3\\envs\\BcgCancer\\lib\\site-packages\\IPython\\core\\interactiveshell.py:3249: DtypeWarning: Columns (42,51) have mixed types. Specify dtype option on import or set low_memory=False.\n",
      "  if (await self.run_code(code, result,  async_=asy)):\n",
      "b'Skipping line 100354: expected 74 fields, saw 87\\n'\n",
      "C:\\Users\\Natan\\Anaconda3\\envs\\BcgCancer\\lib\\site-packages\\IPython\\core\\interactiveshell.py:3249: DtypeWarning: Columns (33,38,40,42,44,45,49,56) have mixed types. Specify dtype option on import or set low_memory=False.\n",
      "  if (await self.run_code(code, result,  async_=asy)):\n",
      "b'Skipping line 40771: expected 74 fields, saw 113\\n'\n",
      "C:\\Users\\Natan\\Anaconda3\\envs\\BcgCancer\\lib\\site-packages\\IPython\\core\\interactiveshell.py:3249: DtypeWarning: Columns (38,42,44) have mixed types. Specify dtype option on import or set low_memory=False.\n",
      "  if (await self.run_code(code, result,  async_=asy)):\n"
     ]
    }
   ],
   "source": [
    "NaN_data_sim_sia_rf_rh_est(name_data, data_name_sig, skip_var, colum)"
   ]
  },
  {
   "cell_type": "markdown",
   "metadata": {},
   "source": [
    "## NaN data SIM"
   ]
  },
  {
   "cell_type": "code",
   "execution_count": 9,
   "metadata": {
    "ExecuteTime": {
     "end_time": "2019-10-28T19:11:03.021187Z",
     "start_time": "2019-10-28T19:11:03.015202Z"
    }
   },
   "outputs": [],
   "source": [
    "name_data = ['Mortalidade Colon e Reto SIM-SUS.csv',\n",
    "             'Mortalidade Linfoma de Hodgkin SIM-SUS.csv',\n",
    "             'Mortalidade Linfoma não Hodgkin SIM-SUS.csv',\n",
    "             'Mortalidade Mama SIM-SUS.csv',\n",
    "             'Mortalidade Prostata SIM-SUS.csv',\n",
    "             'Mortalidade Pulmão SIM-SUS.csv']\n",
    "\n",
    "data_name_sig = ['MCR', 'ML', 'ML', 'MM', 'MPr', 'MPu']\n",
    "skip_var = 0\n",
    "colum = 'CODMUNOCOR'\n",
    "# NaN_data_sim(name_data, data_name_sig, skip_var)\n",
    "# NaN_data_sim_sia(name_data, data_name_sig, skip_var, colum)\n"
   ]
  },
  {
   "cell_type": "code",
   "execution_count": 10,
   "metadata": {
    "ExecuteTime": {
     "end_time": "2019-10-28T19:11:11.739410Z",
     "start_time": "2019-10-28T19:11:03.023182Z"
    }
   },
   "outputs": [
    {
     "name": "stderr",
     "output_type": "stream",
     "text": [
      "C:\\Users\\Natan\\Anaconda3\\envs\\BcgCancer\\lib\\site-packages\\IPython\\core\\interactiveshell.py:3249: DtypeWarning: Columns (8,23,91) have mixed types. Specify dtype option on import or set low_memory=False.\n",
      "  if (await self.run_code(code, result,  async_=asy)):\n",
      "C:\\Users\\Natan\\Anaconda3\\envs\\BcgCancer\\lib\\site-packages\\IPython\\core\\interactiveshell.py:3249: DtypeWarning: Columns (8,23) have mixed types. Specify dtype option on import or set low_memory=False.\n",
      "  if (await self.run_code(code, result,  async_=asy)):\n",
      "C:\\Users\\Natan\\Anaconda3\\envs\\BcgCancer\\lib\\site-packages\\IPython\\core\\interactiveshell.py:3249: DtypeWarning: Columns (23,53) have mixed types. Specify dtype option on import or set low_memory=False.\n",
      "  if (await self.run_code(code, result,  async_=asy)):\n",
      "C:\\Users\\Natan\\Anaconda3\\envs\\BcgCancer\\lib\\site-packages\\IPython\\core\\interactiveshell.py:3249: DtypeWarning: Columns (7,23,53) have mixed types. Specify dtype option on import or set low_memory=False.\n",
      "  if (await self.run_code(code, result,  async_=asy)):\n"
     ]
    }
   ],
   "source": [
    "NaN_data_sim_sia_rf_rh_est(name_data, data_name_sig, skip_var, colum)"
   ]
  },
  {
   "cell_type": "code",
   "execution_count": null,
   "metadata": {},
   "outputs": [],
   "source": []
  },
  {
   "cell_type": "markdown",
   "metadata": {},
   "source": [
    "## NaN data Estabelecimentos\n"
   ]
  },
  {
   "cell_type": "code",
   "execution_count": 11,
   "metadata": {
    "ExecuteTime": {
     "end_time": "2019-10-28T19:11:11.746373Z",
     "start_time": "2019-10-28T19:11:11.740388Z"
    }
   },
   "outputs": [],
   "source": [
    "name_data = ['Estabelecimentos- Clínicas-Ambulatórios Especializados.csv',\n",
    "             'Estabelecimentos- Hospital Especializado.csv',\n",
    "             'Estabelecimentos- Hospital Geral.csv',\n",
    "             'Estabelecimentos- Unidade Básica de Saúde.csv',\n",
    "             'Estabelecimentos- Unidade de Serviço de Apoio ao Diagnose e Terapia.csv']\n",
    "    \n",
    "data_name_sig = ['Est-Cae','Est-He','Est-Hg','Est-Ubs','Est-Usadt']\n",
    "skip_var = [4,4,4,4,4]\n",
    "colum = 'Município'\n",
    "    "
   ]
  },
  {
   "cell_type": "code",
   "execution_count": 12,
   "metadata": {
    "ExecuteTime": {
     "end_time": "2019-10-28T19:11:14.957248Z",
     "start_time": "2019-10-28T19:11:11.748368Z"
    }
   },
   "outputs": [],
   "source": [
    "NaN_data_sim_sia_rf_rh_est(name_data, data_name_sig, skip_var, colum)"
   ]
  },
  {
   "cell_type": "code",
   "execution_count": null,
   "metadata": {},
   "outputs": [],
   "source": []
  },
  {
   "cell_type": "markdown",
   "metadata": {},
   "source": [
    "## NaN data RH - RF"
   ]
  },
  {
   "cell_type": "code",
   "execution_count": 13,
   "metadata": {
    "ExecuteTime": {
     "end_time": "2019-10-28T19:11:14.964166Z",
     "start_time": "2019-10-28T19:11:14.960182Z"
    }
   },
   "outputs": [],
   "source": [
    "### RH e RF"
   ]
  },
  {
   "cell_type": "code",
   "execution_count": 14,
   "metadata": {
    "ExecuteTime": {
     "end_time": "2019-10-28T19:11:15.333295Z",
     "start_time": "2019-10-28T19:11:14.966162Z"
    }
   },
   "outputs": [],
   "source": [
    "name_data = ['RF- Leitos de Internação.csv','RF- Mamógrafos.csv',\n",
    "             'RF- Raios X.csv', 'RF- Tomógrafos Computadorizados.csv',\n",
    "             'RF-Ressonância Magnética.csv', 'RH- Médicos.csv',\n",
    "             'RH- Enfermeiros.csv']\n",
    "    \n",
    "data_name_sig = ['RF-LI', 'RF-MA', 'RF-RA',' RF-TC', 'RF-RM', 'RH-Me', 'RH-En']\n",
    "skip_var = [3,4,4,4,4,4,4]\n",
    "colum = 'Município'\n",
    "    "
   ]
  },
  {
   "cell_type": "code",
   "execution_count": 15,
   "metadata": {
    "ExecuteTime": {
     "end_time": "2019-10-28T19:11:19.177720Z",
     "start_time": "2019-10-28T19:11:15.335106Z"
    }
   },
   "outputs": [],
   "source": [
    "# NaN_data_sim_sia_rf_rh_est(name_data, data_name_sig, skip_var, colum)\n",
    "NaN_data_sim_sia_rf_rh_est(name_data, data_name_sig, skip_var, colum)"
   ]
  },
  {
   "cell_type": "code",
   "execution_count": null,
   "metadata": {},
   "outputs": [],
   "source": []
  },
  {
   "cell_type": "code",
   "execution_count": null,
   "metadata": {},
   "outputs": [],
   "source": []
  },
  {
   "cell_type": "code",
   "execution_count": null,
   "metadata": {},
   "outputs": [],
   "source": []
  },
  {
   "cell_type": "code",
   "execution_count": null,
   "metadata": {},
   "outputs": [],
   "source": []
  },
  {
   "cell_type": "code",
   "execution_count": null,
   "metadata": {},
   "outputs": [],
   "source": []
  },
  {
   "cell_type": "code",
   "execution_count": null,
   "metadata": {},
   "outputs": [],
   "source": []
  }
 ],
 "metadata": {
  "kernelspec": {
   "display_name": "BcgCancer",
   "language": "python",
   "name": "bcgcancer"
  },
  "language_info": {
   "codemirror_mode": {
    "name": "ipython",
    "version": 3
   },
   "file_extension": ".py",
   "mimetype": "text/x-python",
   "name": "python",
   "nbconvert_exporter": "python",
   "pygments_lexer": "ipython3",
   "version": "3.6.9"
  },
  "toc": {
   "base_numbering": 1,
   "nav_menu": {},
   "number_sections": true,
   "sideBar": true,
   "skip_h1_title": false,
   "title_cell": "Table of Contents",
   "title_sidebar": "Contents",
   "toc_cell": false,
   "toc_position": {},
   "toc_section_display": true,
   "toc_window_display": false
  },
  "varInspector": {
   "cols": {
    "lenName": 16,
    "lenType": 16,
    "lenVar": 40
   },
   "kernels_config": {
    "python": {
     "delete_cmd_postfix": "",
     "delete_cmd_prefix": "del ",
     "library": "var_list.py",
     "varRefreshCmd": "print(var_dic_list())"
    },
    "r": {
     "delete_cmd_postfix": ") ",
     "delete_cmd_prefix": "rm(",
     "library": "var_list.r",
     "varRefreshCmd": "cat(var_dic_list()) "
    }
   },
   "types_to_exclude": [
    "module",
    "function",
    "builtin_function_or_method",
    "instance",
    "_Feature"
   ],
   "window_display": false
  }
 },
 "nbformat": 4,
 "nbformat_minor": 2
}
